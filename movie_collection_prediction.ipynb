{
 "cells": [
  {
   "cell_type": "code",
   "execution_count": 1,
   "id": "c3e3a57e",
   "metadata": {},
   "outputs": [],
   "source": [
    "import numpy as np\n",
    "import pandas as pd"
   ]
  },
  {
   "cell_type": "code",
   "execution_count": 3,
   "id": "16907f58",
   "metadata": {},
   "outputs": [],
   "source": [
    "data_x = pd.read_csv('Movie_collection_Independent.csv')\n",
    "data_y = pd.read_csv('Movie_collection_Target.csv')"
   ]
  },
  {
   "cell_type": "code",
   "execution_count": 4,
   "id": "12d811bf",
   "metadata": {},
   "outputs": [
    {
     "data": {
      "text/plain": [
       "(506, 19)"
      ]
     },
     "execution_count": 4,
     "metadata": {},
     "output_type": "execute_result"
    }
   ],
   "source": [
    "data_x.shape"
   ]
  },
  {
   "cell_type": "code",
   "execution_count": 5,
   "id": "31d2146a",
   "metadata": {},
   "outputs": [
    {
     "data": {
      "text/plain": [
       "(506, 1)"
      ]
     },
     "execution_count": 5,
     "metadata": {},
     "output_type": "execute_result"
    }
   ],
   "source": [
    "data_y.shape"
   ]
  },
  {
   "cell_type": "code",
   "execution_count": 6,
   "id": "aa492db5",
   "metadata": {},
   "outputs": [
    {
     "data": {
      "text/html": [
       "<div>\n",
       "<style scoped>\n",
       "    .dataframe tbody tr th:only-of-type {\n",
       "        vertical-align: middle;\n",
       "    }\n",
       "\n",
       "    .dataframe tbody tr th {\n",
       "        vertical-align: top;\n",
       "    }\n",
       "\n",
       "    .dataframe thead th {\n",
       "        text-align: right;\n",
       "    }\n",
       "</style>\n",
       "<table border=\"1\" class=\"dataframe\">\n",
       "  <thead>\n",
       "    <tr style=\"text-align: right;\">\n",
       "      <th></th>\n",
       "      <th>Marketin_expense</th>\n",
       "      <th>Production_expense</th>\n",
       "      <th>Multiplex_coverage</th>\n",
       "      <th>Budget</th>\n",
       "      <th>Movie_length</th>\n",
       "      <th>Lead_ Actor_Rating</th>\n",
       "      <th>Lead_Actress_rating</th>\n",
       "      <th>Director_rating</th>\n",
       "      <th>Producer_rating</th>\n",
       "      <th>Critic_rating</th>\n",
       "      <th>Trailer_views</th>\n",
       "      <th>Time_taken</th>\n",
       "      <th>Twitter_hastags</th>\n",
       "      <th>Avg_age_actors</th>\n",
       "      <th>Num_multiplex</th>\n",
       "      <th>3D_available</th>\n",
       "      <th>Genre_Thriller</th>\n",
       "      <th>Genre_Drama</th>\n",
       "      <th>Genre_Comedy</th>\n",
       "    </tr>\n",
       "  </thead>\n",
       "  <tbody>\n",
       "    <tr>\n",
       "      <th>0</th>\n",
       "      <td>20.1264</td>\n",
       "      <td>59.62</td>\n",
       "      <td>0.462</td>\n",
       "      <td>36524.125</td>\n",
       "      <td>138.7</td>\n",
       "      <td>7.825</td>\n",
       "      <td>8.095</td>\n",
       "      <td>7.910</td>\n",
       "      <td>7.995</td>\n",
       "      <td>7.94</td>\n",
       "      <td>527367</td>\n",
       "      <td>109.60</td>\n",
       "      <td>223.840</td>\n",
       "      <td>23</td>\n",
       "      <td>494</td>\n",
       "      <td>1</td>\n",
       "      <td>1</td>\n",
       "      <td>0</td>\n",
       "      <td>0</td>\n",
       "    </tr>\n",
       "    <tr>\n",
       "      <th>1</th>\n",
       "      <td>20.5462</td>\n",
       "      <td>69.14</td>\n",
       "      <td>0.531</td>\n",
       "      <td>35668.655</td>\n",
       "      <td>152.4</td>\n",
       "      <td>7.505</td>\n",
       "      <td>7.650</td>\n",
       "      <td>7.440</td>\n",
       "      <td>7.470</td>\n",
       "      <td>7.44</td>\n",
       "      <td>494055</td>\n",
       "      <td>146.64</td>\n",
       "      <td>243.456</td>\n",
       "      <td>42</td>\n",
       "      <td>462</td>\n",
       "      <td>0</td>\n",
       "      <td>0</td>\n",
       "      <td>1</td>\n",
       "      <td>0</td>\n",
       "    </tr>\n",
       "    <tr>\n",
       "      <th>2</th>\n",
       "      <td>20.5458</td>\n",
       "      <td>69.14</td>\n",
       "      <td>0.531</td>\n",
       "      <td>39912.675</td>\n",
       "      <td>134.6</td>\n",
       "      <td>7.485</td>\n",
       "      <td>7.570</td>\n",
       "      <td>7.495</td>\n",
       "      <td>7.515</td>\n",
       "      <td>7.44</td>\n",
       "      <td>547051</td>\n",
       "      <td>147.88</td>\n",
       "      <td>2022.400</td>\n",
       "      <td>38</td>\n",
       "      <td>458</td>\n",
       "      <td>0</td>\n",
       "      <td>0</td>\n",
       "      <td>0</td>\n",
       "      <td>1</td>\n",
       "    </tr>\n",
       "    <tr>\n",
       "      <th>3</th>\n",
       "      <td>20.6474</td>\n",
       "      <td>59.36</td>\n",
       "      <td>0.542</td>\n",
       "      <td>38873.890</td>\n",
       "      <td>119.3</td>\n",
       "      <td>6.895</td>\n",
       "      <td>7.035</td>\n",
       "      <td>6.920</td>\n",
       "      <td>7.020</td>\n",
       "      <td>8.26</td>\n",
       "      <td>516279</td>\n",
       "      <td>185.36</td>\n",
       "      <td>225.344</td>\n",
       "      <td>45</td>\n",
       "      <td>472</td>\n",
       "      <td>1</td>\n",
       "      <td>0</td>\n",
       "      <td>1</td>\n",
       "      <td>0</td>\n",
       "    </tr>\n",
       "    <tr>\n",
       "      <th>4</th>\n",
       "      <td>21.3810</td>\n",
       "      <td>59.36</td>\n",
       "      <td>0.542</td>\n",
       "      <td>39701.585</td>\n",
       "      <td>127.7</td>\n",
       "      <td>6.920</td>\n",
       "      <td>7.070</td>\n",
       "      <td>6.815</td>\n",
       "      <td>7.070</td>\n",
       "      <td>8.26</td>\n",
       "      <td>531448</td>\n",
       "      <td>176.48</td>\n",
       "      <td>225.792</td>\n",
       "      <td>55</td>\n",
       "      <td>395</td>\n",
       "      <td>0</td>\n",
       "      <td>0</td>\n",
       "      <td>1</td>\n",
       "      <td>0</td>\n",
       "    </tr>\n",
       "  </tbody>\n",
       "</table>\n",
       "</div>"
      ],
      "text/plain": [
       "   Marketin_expense  Production_expense  Multiplex_coverage     Budget  \\\n",
       "0           20.1264               59.62               0.462  36524.125   \n",
       "1           20.5462               69.14               0.531  35668.655   \n",
       "2           20.5458               69.14               0.531  39912.675   \n",
       "3           20.6474               59.36               0.542  38873.890   \n",
       "4           21.3810               59.36               0.542  39701.585   \n",
       "\n",
       "   Movie_length  Lead_ Actor_Rating  Lead_Actress_rating  Director_rating  \\\n",
       "0         138.7               7.825                8.095            7.910   \n",
       "1         152.4               7.505                7.650            7.440   \n",
       "2         134.6               7.485                7.570            7.495   \n",
       "3         119.3               6.895                7.035            6.920   \n",
       "4         127.7               6.920                7.070            6.815   \n",
       "\n",
       "   Producer_rating  Critic_rating  Trailer_views  Time_taken  Twitter_hastags  \\\n",
       "0            7.995           7.94         527367      109.60          223.840   \n",
       "1            7.470           7.44         494055      146.64          243.456   \n",
       "2            7.515           7.44         547051      147.88         2022.400   \n",
       "3            7.020           8.26         516279      185.36          225.344   \n",
       "4            7.070           8.26         531448      176.48          225.792   \n",
       "\n",
       "   Avg_age_actors  Num_multiplex  3D_available  Genre_Thriller  Genre_Drama  \\\n",
       "0              23            494             1               1            0   \n",
       "1              42            462             0               0            1   \n",
       "2              38            458             0               0            0   \n",
       "3              45            472             1               0            1   \n",
       "4              55            395             0               0            1   \n",
       "\n",
       "   Genre_Comedy  \n",
       "0             0  \n",
       "1             0  \n",
       "2             1  \n",
       "3             0  \n",
       "4             0  "
      ]
     },
     "execution_count": 6,
     "metadata": {},
     "output_type": "execute_result"
    }
   ],
   "source": [
    "data_x[:5]"
   ]
  },
  {
   "cell_type": "code",
   "execution_count": 7,
   "id": "8660c178",
   "metadata": {},
   "outputs": [
    {
     "data": {
      "text/html": [
       "<div>\n",
       "<style scoped>\n",
       "    .dataframe tbody tr th:only-of-type {\n",
       "        vertical-align: middle;\n",
       "    }\n",
       "\n",
       "    .dataframe tbody tr th {\n",
       "        vertical-align: top;\n",
       "    }\n",
       "\n",
       "    .dataframe thead th {\n",
       "        text-align: right;\n",
       "    }\n",
       "</style>\n",
       "<table border=\"1\" class=\"dataframe\">\n",
       "  <thead>\n",
       "    <tr style=\"text-align: right;\">\n",
       "      <th></th>\n",
       "      <th>Collection</th>\n",
       "    </tr>\n",
       "  </thead>\n",
       "  <tbody>\n",
       "    <tr>\n",
       "      <th>0</th>\n",
       "      <td>2.266667</td>\n",
       "    </tr>\n",
       "    <tr>\n",
       "      <th>1</th>\n",
       "      <td>2.106667</td>\n",
       "    </tr>\n",
       "    <tr>\n",
       "      <th>2</th>\n",
       "      <td>2.980000</td>\n",
       "    </tr>\n",
       "    <tr>\n",
       "      <th>3</th>\n",
       "      <td>2.893333</td>\n",
       "    </tr>\n",
       "    <tr>\n",
       "      <th>4</th>\n",
       "      <td>3.080000</td>\n",
       "    </tr>\n",
       "  </tbody>\n",
       "</table>\n",
       "</div>"
      ],
      "text/plain": [
       "   Collection\n",
       "0    2.266667\n",
       "1    2.106667\n",
       "2    2.980000\n",
       "3    2.893333\n",
       "4    3.080000"
      ]
     },
     "execution_count": 7,
     "metadata": {},
     "output_type": "execute_result"
    }
   ],
   "source": [
    "data_y[:5]"
   ]
  },
  {
   "cell_type": "code",
   "execution_count": 10,
   "id": "bf5daa0f",
   "metadata": {},
   "outputs": [],
   "source": [
    "from sklearn.model_selection import train_test_split\n",
    "x_train_full, x_test, y_train_full, y_test = train_test_split(data_x,data_y, random_state = 42)\n",
    "x_train, x_valid, y_train, y_valid = train_test_split(x_train_full, y_train_full, random_state = 42)"
   ]
  },
  {
   "cell_type": "code",
   "execution_count": 11,
   "id": "0c0f67de",
   "metadata": {},
   "outputs": [
    {
     "data": {
      "text/plain": [
       "(284, 19)"
      ]
     },
     "execution_count": 11,
     "metadata": {},
     "output_type": "execute_result"
    }
   ],
   "source": [
    "x_train.shape"
   ]
  },
  {
   "cell_type": "code",
   "execution_count": 12,
   "id": "5593faca",
   "metadata": {},
   "outputs": [
    {
     "data": {
      "text/plain": [
       "(127, 19)"
      ]
     },
     "execution_count": 12,
     "metadata": {},
     "output_type": "execute_result"
    }
   ],
   "source": [
    "x_test.shape"
   ]
  },
  {
   "cell_type": "code",
   "execution_count": 13,
   "id": "cc6f3946",
   "metadata": {},
   "outputs": [
    {
     "data": {
      "text/plain": [
       "(95, 19)"
      ]
     },
     "execution_count": 13,
     "metadata": {},
     "output_type": "execute_result"
    }
   ],
   "source": [
    "x_valid.shape"
   ]
  },
  {
   "cell_type": "code",
   "execution_count": 14,
   "id": "3864fd80",
   "metadata": {},
   "outputs": [],
   "source": [
    "from sklearn.preprocessing import StandardScaler\n",
    "scaler = StandardScaler()\n",
    "x_train = scaler.fit_transform(x_train)\n",
    "x_valid = scaler.transform(x_valid)\n",
    "x_test = scaler.transform(x_test)"
   ]
  },
  {
   "cell_type": "code",
   "execution_count": 16,
   "id": "7f2e7ee7",
   "metadata": {},
   "outputs": [],
   "source": [
    "import tensorflow as tf\n",
    "from tensorflow import keras"
   ]
  },
  {
   "cell_type": "code",
   "execution_count": 20,
   "id": "e0c746f7",
   "metadata": {},
   "outputs": [],
   "source": [
    "model = keras.models.Sequential([\n",
    "    keras.layers.Dense(30, activation = 'relu', input_shape = [19]),\n",
    "    keras.layers.Dense(30, activation = 'relu')\n",
    "])"
   ]
  },
  {
   "cell_type": "code",
   "execution_count": 21,
   "id": "b7909cd2",
   "metadata": {},
   "outputs": [],
   "source": [
    "model.compile(loss = 'mean_squared_error',\n",
    "              optimizer = keras.optimizers.SGD(learning_rate=1e-3),\n",
    "             metrics = ['mae'])"
   ]
  },
  {
   "cell_type": "code",
   "execution_count": 22,
   "id": "c84c9220",
   "metadata": {},
   "outputs": [
    {
     "name": "stdout",
     "output_type": "stream",
     "text": [
      "Epoch 1/100\n",
      "9/9 [==============================] - 1s 29ms/step - loss: 4.2744 - mae: 1.9402 - val_loss: 4.7628 - val_mae: 2.0508\n",
      "Epoch 2/100\n",
      "9/9 [==============================] - 0s 8ms/step - loss: 4.2690 - mae: 1.9386 - val_loss: 4.7572 - val_mae: 2.0493\n",
      "Epoch 3/100\n",
      "9/9 [==============================] - 0s 7ms/step - loss: 4.2635 - mae: 1.9370 - val_loss: 4.7517 - val_mae: 2.0477\n",
      "Epoch 4/100\n",
      "9/9 [==============================] - 0s 8ms/step - loss: 4.2580 - mae: 1.9354 - val_loss: 4.7461 - val_mae: 2.0462\n",
      "Epoch 5/100\n",
      "9/9 [==============================] - 0s 7ms/step - loss: 4.2525 - mae: 1.9338 - val_loss: 4.7404 - val_mae: 2.0447\n",
      "Epoch 6/100\n",
      "9/9 [==============================] - 0s 8ms/step - loss: 4.2469 - mae: 1.9322 - val_loss: 4.7348 - val_mae: 2.0432\n",
      "Epoch 7/100\n",
      "9/9 [==============================] - 0s 8ms/step - loss: 4.2413 - mae: 1.9305 - val_loss: 4.7292 - val_mae: 2.0416\n",
      "Epoch 8/100\n",
      "9/9 [==============================] - 0s 10ms/step - loss: 4.2357 - mae: 1.9289 - val_loss: 4.7235 - val_mae: 2.0401\n",
      "Epoch 9/100\n",
      "9/9 [==============================] - 0s 7ms/step - loss: 4.2301 - mae: 1.9272 - val_loss: 4.7178 - val_mae: 2.0385\n",
      "Epoch 10/100\n",
      "9/9 [==============================] - 0s 7ms/step - loss: 4.2244 - mae: 1.9255 - val_loss: 4.7120 - val_mae: 2.0369\n",
      "Epoch 11/100\n",
      "9/9 [==============================] - 0s 7ms/step - loss: 4.2187 - mae: 1.9238 - val_loss: 4.7062 - val_mae: 2.0353\n",
      "Epoch 12/100\n",
      "9/9 [==============================] - 0s 8ms/step - loss: 4.2129 - mae: 1.9221 - val_loss: 4.7004 - val_mae: 2.0337\n",
      "Epoch 13/100\n",
      "9/9 [==============================] - 0s 6ms/step - loss: 4.2071 - mae: 1.9204 - val_loss: 4.6945 - val_mae: 2.0321\n",
      "Epoch 14/100\n",
      "9/9 [==============================] - 0s 6ms/step - loss: 4.2012 - mae: 1.9187 - val_loss: 4.6886 - val_mae: 2.0305\n",
      "Epoch 15/100\n",
      "9/9 [==============================] - 0s 7ms/step - loss: 4.1953 - mae: 1.9169 - val_loss: 4.6827 - val_mae: 2.0289\n",
      "Epoch 16/100\n",
      "9/9 [==============================] - 0s 6ms/step - loss: 4.1894 - mae: 1.9152 - val_loss: 4.6768 - val_mae: 2.0273\n",
      "Epoch 17/100\n",
      "9/9 [==============================] - 0s 7ms/step - loss: 4.1835 - mae: 1.9135 - val_loss: 4.6708 - val_mae: 2.0256\n",
      "Epoch 18/100\n",
      "9/9 [==============================] - 0s 7ms/step - loss: 4.1775 - mae: 1.9117 - val_loss: 4.6649 - val_mae: 2.0240\n",
      "Epoch 19/100\n",
      "9/9 [==============================] - 0s 6ms/step - loss: 4.1715 - mae: 1.9099 - val_loss: 4.6588 - val_mae: 2.0223\n",
      "Epoch 20/100\n",
      "9/9 [==============================] - 0s 7ms/step - loss: 4.1654 - mae: 1.9081 - val_loss: 4.6528 - val_mae: 2.0206\n",
      "Epoch 21/100\n",
      "9/9 [==============================] - 0s 7ms/step - loss: 4.1593 - mae: 1.9063 - val_loss: 4.6467 - val_mae: 2.0189\n",
      "Epoch 22/100\n",
      "9/9 [==============================] - 0s 9ms/step - loss: 4.1531 - mae: 1.9044 - val_loss: 4.6405 - val_mae: 2.0172\n",
      "Epoch 23/100\n",
      "9/9 [==============================] - 0s 7ms/step - loss: 4.1469 - mae: 1.9026 - val_loss: 4.6343 - val_mae: 2.0155\n",
      "Epoch 24/100\n",
      "9/9 [==============================] - 0s 7ms/step - loss: 4.1406 - mae: 1.9007 - val_loss: 4.6281 - val_mae: 2.0138\n",
      "Epoch 25/100\n",
      "9/9 [==============================] - 0s 6ms/step - loss: 4.1343 - mae: 1.8989 - val_loss: 4.6218 - val_mae: 2.0120\n",
      "Epoch 26/100\n",
      "9/9 [==============================] - 0s 7ms/step - loss: 4.1280 - mae: 1.8970 - val_loss: 4.6155 - val_mae: 2.0103\n",
      "Epoch 27/100\n",
      "9/9 [==============================] - 0s 6ms/step - loss: 4.1216 - mae: 1.8951 - val_loss: 4.6093 - val_mae: 2.0085\n",
      "Epoch 28/100\n",
      "9/9 [==============================] - 0s 7ms/step - loss: 4.1152 - mae: 1.8932 - val_loss: 4.6029 - val_mae: 2.0067\n",
      "Epoch 29/100\n",
      "9/9 [==============================] - 0s 8ms/step - loss: 4.1087 - mae: 1.8912 - val_loss: 4.5966 - val_mae: 2.0049\n",
      "Epoch 30/100\n",
      "9/9 [==============================] - 0s 8ms/step - loss: 4.1023 - mae: 1.8893 - val_loss: 4.5902 - val_mae: 2.0032\n",
      "Epoch 31/100\n",
      "9/9 [==============================] - 0s 8ms/step - loss: 4.0957 - mae: 1.8873 - val_loss: 4.5838 - val_mae: 2.0013\n",
      "Epoch 32/100\n",
      "9/9 [==============================] - 0s 7ms/step - loss: 4.0892 - mae: 1.8854 - val_loss: 4.5773 - val_mae: 1.9995\n",
      "Epoch 33/100\n",
      "9/9 [==============================] - 0s 7ms/step - loss: 4.0826 - mae: 1.8834 - val_loss: 4.5708 - val_mae: 1.9977\n",
      "Epoch 34/100\n",
      "9/9 [==============================] - 0s 7ms/step - loss: 4.0760 - mae: 1.8814 - val_loss: 4.5643 - val_mae: 1.9958\n",
      "Epoch 35/100\n",
      "9/9 [==============================] - 0s 7ms/step - loss: 4.0693 - mae: 1.8794 - val_loss: 4.5577 - val_mae: 1.9940\n",
      "Epoch 36/100\n",
      "9/9 [==============================] - 0s 6ms/step - loss: 4.0626 - mae: 1.8774 - val_loss: 4.5512 - val_mae: 1.9921\n",
      "Epoch 37/100\n",
      "9/9 [==============================] - 0s 6ms/step - loss: 4.0559 - mae: 1.8753 - val_loss: 4.5446 - val_mae: 1.9903\n",
      "Epoch 38/100\n",
      "9/9 [==============================] - 0s 7ms/step - loss: 4.0492 - mae: 1.8733 - val_loss: 4.5379 - val_mae: 1.9884\n",
      "Epoch 39/100\n",
      "9/9 [==============================] - 0s 6ms/step - loss: 4.0425 - mae: 1.8713 - val_loss: 4.5313 - val_mae: 1.9865\n",
      "Epoch 40/100\n",
      "9/9 [==============================] - 0s 7ms/step - loss: 4.0357 - mae: 1.8692 - val_loss: 4.5246 - val_mae: 1.9846\n",
      "Epoch 41/100\n",
      "9/9 [==============================] - 0s 7ms/step - loss: 4.0289 - mae: 1.8672 - val_loss: 4.5179 - val_mae: 1.9827\n",
      "Epoch 42/100\n",
      "9/9 [==============================] - 0s 7ms/step - loss: 4.0220 - mae: 1.8651 - val_loss: 4.5112 - val_mae: 1.9807\n",
      "Epoch 43/100\n",
      "9/9 [==============================] - 0s 7ms/step - loss: 4.0151 - mae: 1.8630 - val_loss: 4.5044 - val_mae: 1.9788\n",
      "Epoch 44/100\n",
      "9/9 [==============================] - 0s 8ms/step - loss: 4.0082 - mae: 1.8609 - val_loss: 4.4977 - val_mae: 1.9769\n",
      "Epoch 45/100\n",
      "9/9 [==============================] - 0s 6ms/step - loss: 4.0012 - mae: 1.8588 - val_loss: 4.4909 - val_mae: 1.9749\n",
      "Epoch 46/100\n",
      "9/9 [==============================] - 0s 6ms/step - loss: 3.9942 - mae: 1.8566 - val_loss: 4.4840 - val_mae: 1.9730\n",
      "Epoch 47/100\n",
      "9/9 [==============================] - 0s 7ms/step - loss: 3.9872 - mae: 1.8545 - val_loss: 4.4772 - val_mae: 1.9710\n",
      "Epoch 48/100\n",
      "9/9 [==============================] - 0s 7ms/step - loss: 3.9801 - mae: 1.8523 - val_loss: 4.4702 - val_mae: 1.9690\n",
      "Epoch 49/100\n",
      "9/9 [==============================] - 0s 8ms/step - loss: 3.9730 - mae: 1.8501 - val_loss: 4.4632 - val_mae: 1.9670\n",
      "Epoch 50/100\n",
      "9/9 [==============================] - 0s 8ms/step - loss: 3.9659 - mae: 1.8480 - val_loss: 4.4562 - val_mae: 1.9650\n",
      "Epoch 51/100\n",
      "9/9 [==============================] - 0s 8ms/step - loss: 3.9588 - mae: 1.8458 - val_loss: 4.4492 - val_mae: 1.9630\n",
      "Epoch 52/100\n",
      "9/9 [==============================] - 0s 10ms/step - loss: 3.9516 - mae: 1.8436 - val_loss: 4.4421 - val_mae: 1.9609\n",
      "Epoch 53/100\n",
      "9/9 [==============================] - 0s 8ms/step - loss: 3.9444 - mae: 1.8414 - val_loss: 4.4349 - val_mae: 1.9589\n",
      "Epoch 54/100\n",
      "9/9 [==============================] - 0s 7ms/step - loss: 3.9371 - mae: 1.8391 - val_loss: 4.4278 - val_mae: 1.9568\n",
      "Epoch 55/100\n",
      "9/9 [==============================] - 0s 7ms/step - loss: 3.9298 - mae: 1.8369 - val_loss: 4.4205 - val_mae: 1.9547\n",
      "Epoch 56/100\n",
      "9/9 [==============================] - 0s 6ms/step - loss: 3.9225 - mae: 1.8346 - val_loss: 4.4132 - val_mae: 1.9526\n",
      "Epoch 57/100\n",
      "9/9 [==============================] - 0s 8ms/step - loss: 3.9151 - mae: 1.8324 - val_loss: 4.4059 - val_mae: 1.9505\n",
      "Epoch 58/100\n",
      "9/9 [==============================] - 0s 7ms/step - loss: 3.9077 - mae: 1.8301 - val_loss: 4.3986 - val_mae: 1.9484\n",
      "Epoch 59/100\n",
      "9/9 [==============================] - 0s 7ms/step - loss: 3.9003 - mae: 1.8278 - val_loss: 4.3913 - val_mae: 1.9463\n",
      "Epoch 60/100\n",
      "9/9 [==============================] - 0s 7ms/step - loss: 3.8929 - mae: 1.8255 - val_loss: 4.3840 - val_mae: 1.9441\n",
      "Epoch 61/100\n",
      "9/9 [==============================] - 0s 7ms/step - loss: 3.8854 - mae: 1.8232 - val_loss: 4.3766 - val_mae: 1.9420\n",
      "Epoch 62/100\n",
      "9/9 [==============================] - 0s 6ms/step - loss: 3.8779 - mae: 1.8208 - val_loss: 4.3691 - val_mae: 1.9399\n",
      "Epoch 63/100\n",
      "9/9 [==============================] - 0s 7ms/step - loss: 3.8704 - mae: 1.8185 - val_loss: 4.3617 - val_mae: 1.9377\n",
      "Epoch 64/100\n"
     ]
    },
    {
     "name": "stdout",
     "output_type": "stream",
     "text": [
      "9/9 [==============================] - 0s 6ms/step - loss: 3.8628 - mae: 1.8161 - val_loss: 4.3542 - val_mae: 1.9355\n",
      "Epoch 65/100\n",
      "9/9 [==============================] - 0s 6ms/step - loss: 3.8553 - mae: 1.8138 - val_loss: 4.3468 - val_mae: 1.9334\n",
      "Epoch 66/100\n",
      "9/9 [==============================] - 0s 6ms/step - loss: 3.8477 - mae: 1.8114 - val_loss: 4.3393 - val_mae: 1.9312\n",
      "Epoch 67/100\n",
      "9/9 [==============================] - 0s 6ms/step - loss: 3.8402 - mae: 1.8090 - val_loss: 4.3317 - val_mae: 1.9290\n",
      "Epoch 68/100\n",
      "9/9 [==============================] - 0s 6ms/step - loss: 3.8325 - mae: 1.8067 - val_loss: 4.3241 - val_mae: 1.9268\n",
      "Epoch 69/100\n",
      "9/9 [==============================] - 0s 6ms/step - loss: 3.8249 - mae: 1.8042 - val_loss: 4.3164 - val_mae: 1.9245\n",
      "Epoch 70/100\n",
      "9/9 [==============================] - 0s 7ms/step - loss: 3.8172 - mae: 1.8018 - val_loss: 4.3088 - val_mae: 1.9223\n",
      "Epoch 71/100\n",
      "9/9 [==============================] - 0s 6ms/step - loss: 3.8095 - mae: 1.7994 - val_loss: 4.3011 - val_mae: 1.9201\n",
      "Epoch 72/100\n",
      "9/9 [==============================] - 0s 6ms/step - loss: 3.8018 - mae: 1.7970 - val_loss: 4.2933 - val_mae: 1.9178\n",
      "Epoch 73/100\n",
      "9/9 [==============================] - 0s 6ms/step - loss: 3.7941 - mae: 1.7945 - val_loss: 4.2856 - val_mae: 1.9155\n",
      "Epoch 74/100\n",
      "9/9 [==============================] - 0s 6ms/step - loss: 3.7864 - mae: 1.7921 - val_loss: 4.2778 - val_mae: 1.9132\n",
      "Epoch 75/100\n",
      "9/9 [==============================] - 0s 7ms/step - loss: 3.7786 - mae: 1.7896 - val_loss: 4.2700 - val_mae: 1.9109\n",
      "Epoch 76/100\n",
      "9/9 [==============================] - 0s 8ms/step - loss: 3.7709 - mae: 1.7871 - val_loss: 4.2622 - val_mae: 1.9086\n",
      "Epoch 77/100\n",
      "9/9 [==============================] - 0s 6ms/step - loss: 3.7631 - mae: 1.7847 - val_loss: 4.2543 - val_mae: 1.9063\n",
      "Epoch 78/100\n",
      "9/9 [==============================] - 0s 7ms/step - loss: 3.7553 - mae: 1.7822 - val_loss: 4.2465 - val_mae: 1.9040\n",
      "Epoch 79/100\n",
      "9/9 [==============================] - 0s 6ms/step - loss: 3.7475 - mae: 1.7797 - val_loss: 4.2386 - val_mae: 1.9017\n",
      "Epoch 80/100\n",
      "9/9 [==============================] - 0s 7ms/step - loss: 3.7397 - mae: 1.7772 - val_loss: 4.2307 - val_mae: 1.8994\n",
      "Epoch 81/100\n",
      "9/9 [==============================] - 0s 7ms/step - loss: 3.7318 - mae: 1.7746 - val_loss: 4.2228 - val_mae: 1.8970\n",
      "Epoch 82/100\n",
      "9/9 [==============================] - 0s 8ms/step - loss: 3.7239 - mae: 1.7722 - val_loss: 4.2148 - val_mae: 1.8946\n",
      "Epoch 83/100\n",
      "9/9 [==============================] - 0s 6ms/step - loss: 3.7160 - mae: 1.7696 - val_loss: 4.2068 - val_mae: 1.8923\n",
      "Epoch 84/100\n",
      "9/9 [==============================] - 0s 6ms/step - loss: 3.7080 - mae: 1.7670 - val_loss: 4.1988 - val_mae: 1.8899\n",
      "Epoch 85/100\n",
      "9/9 [==============================] - 0s 6ms/step - loss: 3.7000 - mae: 1.7644 - val_loss: 4.1908 - val_mae: 1.8875\n",
      "Epoch 86/100\n",
      "9/9 [==============================] - 0s 6ms/step - loss: 3.6920 - mae: 1.7619 - val_loss: 4.1827 - val_mae: 1.8851\n",
      "Epoch 87/100\n",
      "9/9 [==============================] - 0s 6ms/step - loss: 3.6840 - mae: 1.7593 - val_loss: 4.1746 - val_mae: 1.8827\n",
      "Epoch 88/100\n",
      "9/9 [==============================] - 0s 7ms/step - loss: 3.6760 - mae: 1.7567 - val_loss: 4.1665 - val_mae: 1.8802\n",
      "Epoch 89/100\n",
      "9/9 [==============================] - 0s 6ms/step - loss: 3.6680 - mae: 1.7541 - val_loss: 4.1584 - val_mae: 1.8778\n",
      "Epoch 90/100\n",
      "9/9 [==============================] - 0s 7ms/step - loss: 3.6599 - mae: 1.7515 - val_loss: 4.1503 - val_mae: 1.8754\n",
      "Epoch 91/100\n",
      "9/9 [==============================] - 0s 6ms/step - loss: 3.6518 - mae: 1.7488 - val_loss: 4.1421 - val_mae: 1.8729\n",
      "Epoch 92/100\n",
      "9/9 [==============================] - 0s 6ms/step - loss: 3.6437 - mae: 1.7462 - val_loss: 4.1339 - val_mae: 1.8705\n",
      "Epoch 93/100\n",
      "9/9 [==============================] - 0s 6ms/step - loss: 3.6356 - mae: 1.7435 - val_loss: 4.1257 - val_mae: 1.8680\n",
      "Epoch 94/100\n",
      "9/9 [==============================] - 0s 6ms/step - loss: 3.6275 - mae: 1.7409 - val_loss: 4.1174 - val_mae: 1.8655\n",
      "Epoch 95/100\n",
      "9/9 [==============================] - 0s 6ms/step - loss: 3.6193 - mae: 1.7382 - val_loss: 4.1091 - val_mae: 1.8630\n",
      "Epoch 96/100\n",
      "9/9 [==============================] - 0s 6ms/step - loss: 3.6112 - mae: 1.7355 - val_loss: 4.1008 - val_mae: 1.8605\n",
      "Epoch 97/100\n",
      "9/9 [==============================] - 0s 7ms/step - loss: 3.6030 - mae: 1.7328 - val_loss: 4.0925 - val_mae: 1.8580\n",
      "Epoch 98/100\n",
      "9/9 [==============================] - 0s 7ms/step - loss: 3.5948 - mae: 1.7301 - val_loss: 4.0841 - val_mae: 1.8555\n",
      "Epoch 99/100\n",
      "9/9 [==============================] - 0s 7ms/step - loss: 3.5866 - mae: 1.7274 - val_loss: 4.0758 - val_mae: 1.8530\n",
      "Epoch 100/100\n",
      "9/9 [==============================] - 0s 7ms/step - loss: 3.5785 - mae: 1.7247 - val_loss: 4.0675 - val_mae: 1.8505\n"
     ]
    }
   ],
   "source": [
    "model_history = model.fit(x_train, y_train, epochs=100, validation_data=(x_valid, y_valid))"
   ]
  },
  {
   "cell_type": "code",
   "execution_count": 23,
   "id": "f6d1b913",
   "metadata": {},
   "outputs": [
    {
     "name": "stdout",
     "output_type": "stream",
     "text": [
      "4/4 [==============================] - 0s 3ms/step - loss: 3.6958 - mae: 1.6910\n"
     ]
    }
   ],
   "source": [
    "mae_test = model.evaluate(x_test, y_test)"
   ]
  },
  {
   "cell_type": "code",
   "execution_count": 24,
   "id": "b069d3b2",
   "metadata": {},
   "outputs": [],
   "source": [
    "x_new = x_test[:5]"
   ]
  },
  {
   "cell_type": "code",
   "execution_count": 25,
   "id": "ebac92e7",
   "metadata": {},
   "outputs": [
    {
     "name": "stdout",
     "output_type": "stream",
     "text": [
      "1/1 [==============================] - 0s 323ms/step\n",
      "[[0.         0.         0.49612027 0.13795854 0.03374401 0.\n",
      "  0.09014356 0.         0.         0.8502547  0.16370952 0.52424264\n",
      "  0.         0.6581863  0.54802066 0.         0.06159155 1.1299176\n",
      "  0.04425629 0.         0.59556633 0.162018   0.         0.32066548\n",
      "  0.         0.09298552 0.         0.         0.70045996 0.2758934 ]\n",
      " [0.84004235 0.         1.0395614  0.         0.         0.\n",
      "  0.         0.         0.6460738  0.34613976 0.8570167  0.5375918\n",
      "  0.         0.32115453 0.11634904 0.         0.16265818 0.79320127\n",
      "  1.0838077  0.90762484 1.6325159  0.         0.8331885  0.7580473\n",
      "  0.20169096 0.         0.2692535  0.         0.7891792  0.58289415]\n",
      " [1.6474152  0.01062282 0.6659006  0.12567228 0.         0.42500454\n",
      "  0.52969605 0.         0.32699683 0.         1.1378499  0.\n",
      "  0.         0.86192244 1.0747492  0.20509604 0.0262935  0.3692421\n",
      "  0.311315   0.         0.57160145 0.         1.030436   0.\n",
      "  0.18540137 0.17771691 0.5164933  0.         0.4868459  0.        ]\n",
      " [1.2146796  0.         1.9185795  0.         0.         0.\n",
      "  0.         0.         0.314318   0.         0.57763946 1.652576\n",
      "  0.         0.787056   1.4809197  0.         0.71046525 2.2651455\n",
      "  2.1317072  0.7350836  2.992195   0.         1.5588342  1.1220217\n",
      "  0.5580113  0.         1.3343414  0.         1.8342624  1.6412259 ]\n",
      " [2.2921908  0.25788084 0.6724668  0.66388035 0.         0.7062614\n",
      "  1.2008964  0.         0.8867143  0.         1.847603   0.30728447\n",
      "  0.         0.912799   0.72023237 0.         0.         0.37006584\n",
      "  0.4031462  0.12871662 0.79681957 0.         0.9369533  0.\n",
      "  0.         0.26490346 0.72035486 0.         0.19602275 0.        ]]\n",
      "     Collection\n",
      "173    2.240000\n",
      "274    2.826667\n",
      "491    1.573333\n",
      "72     2.186667\n",
      "452    1.740000\n"
     ]
    }
   ],
   "source": [
    "y_pred = model.predict(x_new)\n",
    "print(y_pred)\n",
    "print(y_test[:5])"
   ]
  },
  {
   "cell_type": "code",
   "execution_count": null,
   "id": "0f620f3c",
   "metadata": {},
   "outputs": [],
   "source": []
  }
 ],
 "metadata": {
  "kernelspec": {
   "display_name": "Python 3 (ipykernel)",
   "language": "python",
   "name": "python3"
  },
  "language_info": {
   "codemirror_mode": {
    "name": "ipython",
    "version": 3
   },
   "file_extension": ".py",
   "mimetype": "text/x-python",
   "name": "python",
   "nbconvert_exporter": "python",
   "pygments_lexer": "ipython3",
   "version": "3.9.13"
  }
 },
 "nbformat": 4,
 "nbformat_minor": 5
}
